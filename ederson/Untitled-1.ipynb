{
 "cells": [
  {
   "cell_type": "markdown",
   "id": "1aa21ce0",
   "metadata": {},
   "source": [
    "### clt"
   ]
  },
  {
   "cell_type": "code",
   "execution_count": 1,
   "id": "df81fb67",
   "metadata": {},
   "outputs": [
    {
     "name": "stdout",
     "output_type": "stream",
     "text": [
      "-2870\n"
     ]
    }
   ],
   "source": [
    "salario = 1200\n",
    "gasolina = 200\n",
    "internet = 200\n",
    "alimentos = 1500\n",
    "agua = 100\n",
    "luz = 300\n",
    "condominio = 570\n",
    "entrenimento = 1200\n",
    "total_gastos = gasolina + internet + alimentos + agua + luz + condominio + entrenimento\n",
    "quanto_sobra = salario - total_gastos\n",
    "print(quanto_sobra) "
   ]
  },
  {
   "cell_type": "code",
   "execution_count": null,
   "id": "7afe06cf",
   "metadata": {},
   "outputs": [],
   "source": [
    "salario = 1400\n",
    "internet = 100\n",
    "alimentos = 500\n",
    "agua = 100\n",
    "luz = 200\n"
   ]
  }
 ],
 "metadata": {
  "kernelspec": {
   "display_name": "Python 3",
   "language": "python",
   "name": "python3"
  },
  "language_info": {
   "codemirror_mode": {
    "name": "ipython",
    "version": 3
   },
   "file_extension": ".py",
   "mimetype": "text/x-python",
   "name": "python",
   "nbconvert_exporter": "python",
   "pygments_lexer": "ipython3",
   "version": "3.13.2"
  }
 },
 "nbformat": 4,
 "nbformat_minor": 5
}
