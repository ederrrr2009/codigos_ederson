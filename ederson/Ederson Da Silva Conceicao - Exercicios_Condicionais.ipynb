{
 "cells": [
  {
   "cell_type": "markdown",
   "id": "633160a3",
   "metadata": {},
   "source": [
    "### 📝Lista de Exercícios: Condicionais IF/ELSE"
   ]
  },
  {
   "cell_type": "markdown",
   "id": "605d2a7e",
   "metadata": {},
   "source": [
    "Exercício 1 - Maioridade 🔞\n",
    "\n",
    "Crie um programa que pergunta a idade do usuário e diz se ele é maior ou menor de idade."
   ]
  },
  {
   "cell_type": "code",
   "execution_count": null,
   "id": "93ea230f",
   "metadata": {},
   "outputs": [],
   "source": [
    "idade = int(input(\"Quantos anos você tem? \"))\n",
    "\n",
    "# Complete o código aqui\n",
    "if idade >= 18:\n",
    "    print('maior de idade')\n",
    "else:\n",
    "    print(\"vc é burro ou c faz eder gay?\")    "
   ]
  },
  {
   "cell_type": "markdown",
   "id": "6e9528f5",
   "metadata": {},
   "source": [
    "Exercício 2 - Aprovação na Prova 🧠\n",
    "\n",
    "Faça um programa que pergunte a nota de um aluno (0 a 10) e diz se ele foi aprovado(nota >= 5) ou reprovado (nota <5)."
   ]
  },
  {
   "cell_type": "code",
   "execution_count": null,
   "id": "4a9f8f8b",
   "metadata": {},
   "outputs": [],
   "source": [
    "nota = float(input(\"Informe a sua nota de (0 a 10)\"))\n",
    "\n",
    "# Complete o código aqui\n",
    "if nota >= 5:\n",
    "    print('aprovado')\n",
    "else:\n",
    "    print('reprovado')"
   ]
  },
  {
   "cell_type": "markdown",
   "id": "9f8e9b92",
   "metadata": {},
   "source": [
    "Exercicio 3 - CNH 🚘🚙\n",
    "\n",
    " 1º - Peça ao usuário que digite a idade dele.\n",
    "\n",
    " 2º - Peça pra ele dizer se foi aprovado ou reprovado no curso de cnh.\n",
    "\n",
    " 3º - Use if e else para verificar se ele tem 18 anos ou mais e se foi aprovado.\n",
    "\n",
    " 4º - Se as condições do passo 3 estiverem certas, print(\"pode dirigir\").\n",
    " \n",
    " 5º - Se não print(\"vai andar a pé\")"
   ]
  },
  {
   "cell_type": "code",
   "execution_count": 1,
   "id": "bee9f043",
   "metadata": {},
   "outputs": [
    {
     "name": "stdout",
     "output_type": "stream",
     "text": [
      "vc ainda nn pode dirigir\n"
     ]
    }
   ],
   "source": [
    "### Seu código aqui\n",
    "idade = int(input(\"qual é sua idade ?\"))\n",
    "curso_cnh= input(\"voce foi aprovado no curso de cnh?(sim ou nao)?\")\n",
    "if idade >= 18 and cnh ==\"sim\":\n",
    " print(\"parabens voce ja pode dirigir\")\n",
    "else:\n",
    " print(\"vc ainda nn pode dirigir\")"
   ]
  },
  {
   "cell_type": "markdown",
   "id": "e9c60d12",
   "metadata": {},
   "source": [
    "Exercício 4 - Calculadora de Desconto. 💵 🤑\n",
    "\n",
    "Uma loja dá 10% de desconto para compras acima de R$ 100,00. Faça um programa que:\n",
    "\n",
    "1º - Pergunta o valor da compra.\n",
    "\n",
    "2º - Calcula o valor final com desconto (se aplicável).\n",
    "\n",
    "3º - Mostra o valor a pagar."
   ]
  },
  {
   "cell_type": "code",
   "execution_count": 2,
   "id": "5edc8855",
   "metadata": {},
   "outputs": [
    {
     "name": "stdout",
     "output_type": "stream",
     "text": [
      "voce teve 18% de desconto, vai pagar 90.0\n"
     ]
    }
   ],
   "source": [
    "### Seu código aqui\n",
    "compra = float(input(\"qual o valor da compra?\"))\n",
    "desconto = compra *0.10\n",
    "valor_final = compra - desconto\n",
    "if compra >=100:\n",
    "    print(f\"voce teve 18% de desconto, vai pagar {valor_final}\")\n",
    "else:\n",
    "    print(\"voce nao teve desconto, compra abaixo de R$100\")"
   ]
  },
  {
   "cell_type": "markdown",
   "id": "ec96b43c",
   "metadata": {},
   "source": [
    "Exercício 5 - Classificação de Notas 🧑‍🎓\n",
    "\n",
    "Pergunte a nota de um aluno e dependendo da nota que ele informar, o classifique de acordo com as regras abaixo:\n",
    "\n",
    "Classifique a nota do aluno:\n",
    "\n",
    "- 9 até 10: \"Excelente\"\n",
    "\n",
    "- 7 até 8.9: \"Bom\"\n",
    "\n",
    "- 5 até 6.9: \"Regular\"\n",
    "\n",
    "- 0 até 4.9: \"Reprovado\"\n",
    "\n",
    "mostre para o aluno a classificação dele através de um print, exemplo print(\"Excelente\")."
   ]
  },
  {
   "cell_type": "code",
   "execution_count": 3,
   "id": "465c6812",
   "metadata": {},
   "outputs": [
    {
     "name": "stdout",
     "output_type": "stream",
     "text": [
      "regular\n"
     ]
    }
   ],
   "source": [
    "nota = float(input(\"qual a sua nota?\"))\n",
    "if nota >= 9 and nota <=10:\n",
    "    print(\"exelente\")\n",
    "elif nota >=7 and nota <=8.9:\n",
    "    print(\"bom\")\n",
    "elif nota >=5 and nota <= 6.9:\n",
    "    print(\"regular\")\n",
    "else:\n",
    "    print(\"reprovado\")"
   ]
  },
  {
   "cell_type": "markdown",
   "id": "251b0fa7",
   "metadata": {},
   "source": [
    "Exercício 6 - Acesso ao Sistema 🔑\n",
    "\n",
    "Crie um login simples:\n",
    "\n",
    "- usuario_correto = \"admin\"\n",
    "\n",
    "- senha_correta = \"1234\"\n",
    "\n",
    "**Peça para o usuário digitar primeiro o login e depois a senha, caso login e senha estejam corretos programa deve mostrar \"Acesso permitido\" se não \"Acesso negado\"**\n"
   ]
  },
  {
   "cell_type": "code",
   "execution_count": 5,
   "id": "7fcf16db",
   "metadata": {},
   "outputs": [
    {
     "name": "stdout",
     "output_type": "stream",
     "text": [
      "acesso negado\n"
     ]
    }
   ],
   "source": [
    "usuario_correto = \"adimin\"\n",
    "senha_correta = \"1234\"\n",
    "\n",
    "\n",
    "login = input(\"qual o seu login/usuario?\")\n",
    "senha = int(input(\"digite a senha :\"))\n",
    "\n",
    "if login == usuario_correto and senha == senha_correta :\n",
    "    print(f\"acesso permitido,bem vindo ao sistema {login}\")\n",
    "else:\n",
    "    print(\"acesso negado\")"
   ]
  },
  {
   "cell_type": "markdown",
   "id": "46c27406",
   "metadata": {},
   "source": [
    "Exercício 7 - Maior Número 📉\n",
    "\n",
    "Peça 3 números e mostre qual é o maior deles."
   ]
  },
  {
   "cell_type": "code",
   "execution_count": 3,
   "id": "916439ff",
   "metadata": {},
   "outputs": [
    {
     "name": "stdout",
     "output_type": "stream",
     "text": [
      "o maior numero é 3\n"
     ]
    }
   ],
   "source": [
    "numero1 = int(input(\"digite um numero :\"))\n",
    "numero2 = int(input(\"digite um numero :\"))\n",
    "numero3 = int(input(\"digite um numero :\"))\n",
    "\n",
    "if numero1 > numero2 and numero1 > numero3 :\n",
    "    print(f\"o maior numero é {numero1}\")\n",
    "elif numero2 > numero3 and numero2 > numero1: \n",
    "    print(f\"o maior numero é {numero2}\") \n",
    "else:\n",
    "    print(f\"o maior numero é {numero3}\") \n",
    "\n"
   ]
  },
  {
   "cell_type": "markdown",
   "id": "984fe0fe",
   "metadata": {},
   "source": [
    "Exercício 8 - Dia da Semana\n",
    "Peça um número de 1 a 7 e mostre o dia da semana correspondente: 📅\n",
    "\n",
    "- 1: Domingo\n",
    "\n",
    "- 2: Segunda\n",
    "\n",
    "- ... até 7: Sábado"
   ]
  },
  {
   "cell_type": "code",
   "execution_count": 8,
   "id": "f34c6fbf",
   "metadata": {},
   "outputs": [
    {
     "name": "stdout",
     "output_type": "stream",
     "text": [
      "o dia escolhido foi sabado\n"
     ]
    }
   ],
   "source": [
    "numero1 = int(input(\"digite um numero de um 1 ate 7\"))\n",
    "\n",
    "\n",
    "if numero1 == 1:\n",
    "    print(\"o dia escolhido foi domingo\")\n",
    "elif numero1 == 2 :\n",
    "    print(\"o dia escolhido foi segunda\")\n",
    "elif numero1 == 3:\n",
    "    print (\"o dia escolhido foi terca \")\n",
    "elif numero1 == 4:\n",
    "    print (\"o dia escolhido foi quarta\")\n",
    "elif numero1 == 5:\n",
    "    print (\"o dia escolhido foi quinta \")\n",
    "elif numero1 == 6:\n",
    "    print (\"o dia escolhido foi sexta \") \n",
    "else:\n",
    "    print(f\"o dia escolhido foi sabado\")"
   ]
  },
  {
   "cell_type": "markdown",
   "id": "f1f760b7",
   "metadata": {},
   "source": [
    "Exercício 9 - Calculadora Simples 📏📐\n",
    "\n",
    "- Faça uma calculadora que:\n",
    "\n",
    "- Pede dois números\n",
    "\n",
    "- Pede a operação (+, -, *, /)\n",
    "\n",
    "- Dependendo da operação mostre o resultado.\n",
    "\n"
   ]
  },
  {
   "cell_type": "code",
   "execution_count": 10,
   "id": "95c6ce03",
   "metadata": {},
   "outputs": [
    {
     "name": "stdout",
     "output_type": "stream",
     "text": [
      "a soma dos dois numeros foi de 11.0\n"
     ]
    }
   ],
   "source": [
    "numero1 = float(input(\"digiteb um numero\"))\n",
    "numero2 = float(input(\"digite um numero\"))\n",
    "operacao = input(\"qual operacao voce quer fazer :\")\n",
    "\n",
    "soma = numero1 + numero2 \n",
    "subtracao = numero1 - numero2\n",
    "mutiplicacao = numero1 * numero2\n",
    "divisao = numero2 / numero1 \n",
    "\n",
    "if operacao == \"+\":\n",
    "    print(f\"a soma dos dois numeros foi de {soma}\")\n",
    "elif operacao == - \"-\":\n",
    "    print(f\"a subtracao dos dois numero foi de {subtracao}\")\n",
    "elif operacao == \"*\":\n",
    "    print(f\"a mutiplicacao dos dois numeros foi {mutiplicacao}\")\n",
    "else:\n",
    "    print (f\"a divisao dos dois produtos foi {divisao}\")\n"
   ]
  },
  {
   "cell_type": "markdown",
   "id": "f39f6b73",
   "metadata": {},
   "source": [
    "Exercício 10 - Sistema de Multas 🚙🚘🧾\n",
    "\n",
    "\n",
    "- Velocidade máxima: 80 km/h 🚫\n",
    "\n",
    "- Até 80: \"Sem multa\"\n",
    "\n",
    "- 81-100: \"Multa leve\"\n",
    "\n",
    "- Acima de 100: \"Multa grave\""
   ]
  },
  {
   "cell_type": "code",
   "execution_count": 15,
   "id": "20fdc977",
   "metadata": {},
   "outputs": [
    {
     "name": "stdout",
     "output_type": "stream",
     "text": [
      "vc esta dentro da velocidade permitida\n"
     ]
    }
   ],
   "source": [
    "velocidade = float(input(\"qual a sua velocidade?:\"))\n",
    "\n",
    "if velocidade > 0 and velocidade <= 80:\n",
    "   print(\"vc esta dentro da velocidade permitida\")\n",
    "elif velocidade >= 81 and velocidade <=100:\n",
    "   print(\"voce ultrapacou da velocidade permitida, multa leve.\")\n",
    "else:\n",
    "   print(\"vc ultrapassou completamente o a velocidade permitida, multa grave.\")\n",
    "\n",
    "\n"
   ]
  }
 ],
 "metadata": {
  "kernelspec": {
   "display_name": "Python 3",
   "language": "python",
   "name": "python3"
  },
  "language_info": {
   "codemirror_mode": {
    "name": "ipython",
    "version": 3
   },
   "file_extension": ".py",
   "mimetype": "text/x-python",
   "name": "python",
   "nbconvert_exporter": "python",
   "pygments_lexer": "ipython3",
   "version": "3.13.2"
  }
 },
 "nbformat": 4,
 "nbformat_minor": 5
}
